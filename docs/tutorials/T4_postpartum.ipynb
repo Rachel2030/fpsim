{
 "cells": [
  {
   "cell_type": "markdown",
   "id": "9c625fdd",
   "metadata": {},
   "source": [
    "# Postpartum Scenarios\n",
    "\n",
    "As we demonstrated in T1, T2, and T3, FPsim can also be used to test a variety of interventions. In this tutorial we demonstrate how it can also be used to focus on interventions during this postpartum period. \n",
    "\n",
    "This tutorial walks you through how to define parameters, run a simulation, and plot the results to model postpartum interventions."
   ]
  },
  {
   "cell_type": "markdown",
   "id": "f54b1910",
   "metadata": {},
   "source": [
    "##  Getting started\n",
    "\n",
    "Installing and getting started with FPsim is quite simple.\n",
    "\n",
    "To install, just type `pip install fpsim`. If it worked, you should be able to import FPsim with `import fpsim as fp`."
   ]
  },
  {
   "cell_type": "code",
   "execution_count": null,
   "id": "26ad0f85",
   "metadata": {},
   "outputs": [],
   "source": [
    "import fpsim as fp"
   ]
  },
  {
   "cell_type": "markdown",
   "id": "a39d46dc",
   "metadata": {},
   "source": [
    "### Focusing on the postapartum period"
   ]
  },
  {
   "cell_type": "code",
   "execution_count": null,
   "id": "3cf1d330",
   "metadata": {},
   "outputs": [],
   "source": []
  },
  {
   "cell_type": "markdown",
   "id": "7d899262",
   "metadata": {},
   "source": [
    "### Defining parameters\n",
    "\n",
    "The most common category of parameters to change in FPsim is the basic category. This includes the initial number of agents, the location (i.e. Senegal, Kenya, or Ethiopia), and the starting and ending years. We can define these as:"
   ]
  },
  {
   "cell_type": "code",
   "execution_count": null,
   "id": "175b7b1a",
   "metadata": {},
   "outputs": [],
   "source": [
    "pars = dict(\n",
    "    n_agents   = 10_000,\n",
    "    location   = 'ethiopia',\n",
    "    start_year = 1960, \n",
    "    end_year   = 2020,\n",
    ")"
   ]
  },
  {
   "cell_type": "markdown",
   "id": "7e30e46a",
   "metadata": {},
   "source": [
    "We can then run a single simulation based on parameters defined above. This will generate a results dictionary `sim.results`. From there, `sim.plot` can be used to present the default plotting options for a single simulation. "
   ]
  },
  {
   "cell_type": "code",
   "execution_count": null,
   "id": "102f7cd3",
   "metadata": {},
   "outputs": [],
   "source": [
    "sim = fp.Sim(pars)\n",
    "sim.run()\n",
    "sim.plot()"
   ]
  },
  {
   "cell_type": "markdown",
   "id": "c59942c8",
   "metadata": {},
   "source": [
    "### Build Intervention Scenarios\n",
    "\n",
    "Next, you'll learn how to build intervention scenarios using multiple sims and plot those. "
   ]
  },
  {
   "cell_type": "markdown",
   "id": "9527be69",
   "metadata": {},
   "source": [
    "#### Scenario 1\n",
    "Let's start with a basic scenario in which we change behavior around a method. We can adjust the initiation, switching, and/or discontinuation. In S1, we'll double the initiation rate of the implant."
   ]
  },
  {
   "cell_type": "code",
   "execution_count": null,
   "id": "11c74794",
   "metadata": {},
   "outputs": [],
   "source": [
    "s1 = fp.make_scen(method='Implants', init_factor=2, year=2020)"
   ]
  },
  {
   "cell_type": "markdown",
   "id": "08b7a98b",
   "metadata": {},
   "source": [
    "#### Scenario 2\n",
    "Now let's say we think that the newly improved implant will especially appeal to the 35+ audience when it hits the market in 2027. We would specify the age matrix using 'ages'."
   ]
  },
  {
   "cell_type": "code",
   "execution_count": null,
   "id": "5ec9db19",
   "metadata": {},
   "outputs": [],
   "source": [
    "s2 = fp.make_scen(method='Implants', init_factor=2.0, ages='>35', year=2027)"
   ]
  },
  {
   "cell_type": "markdown",
   "id": "fe008f8f",
   "metadata": {},
   "source": [
    "#### Scenario 3\n",
    "We can also combine different changes in a single scenario by using a dictionary. In this case, let's imagine that our newly improved 2027 injectables will appeal to the 35+ audience and will draw not only new users, but current condom users. In this case, we need two lines of changes, one line to affect injectables, and one to affect condom switching behavior."
   ]
  },
  {
   "cell_type": "code",
   "execution_count": null,
   "id": "7d84906d",
   "metadata": {},
   "outputs": [],
   "source": [
    "s3 = fp.make_scen(\n",
    "    year = 2027,\n",
    "    probs = [\n",
    "        dict(method='Implants', init_factor=2.0, ages='>35'),\n",
    "        dict(source='Injectables', dest='Implants', value=0.20) #assume 20% likelihood of condom users to switch to injectables\n",
    "    ]\n",
    ")"
   ]
  }
 ],
 "metadata": {
  "kernelspec": {
   "display_name": "Python 3 (ipykernel)",
   "language": "python",
   "name": "python3"
  },
  "language_info": {
   "codemirror_mode": {
    "name": "ipython",
    "version": 3
   },
   "file_extension": ".py",
   "mimetype": "text/x-python",
   "name": "python",
   "nbconvert_exporter": "python",
   "pygments_lexer": "ipython3",
   "version": "3.9.13"
  }
 },
 "nbformat": 4,
 "nbformat_minor": 5
}
