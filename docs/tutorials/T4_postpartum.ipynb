{
 "cells": [
  {
   "cell_type": "markdown",
   "id": "9c625fdd",
   "metadata": {},
   "source": [
    "# Postpartum Scenarios\n",
    "\n",
    "FPsim can also be used to test interventions during the postpartum period. [More description here on why this period is important]\n",
    "\n",
    "This tutorial walks you through how to define parameters, run the simulation, plot the results of a simulation on the postpartum period. "
   ]
  },
  {
   "cell_type": "markdown",
   "id": "f54b1910",
   "metadata": {},
   "source": [
    "##  Getting started\n",
    "\n",
    "Installing and getting started with FPsim is quite simple.\n",
    "\n",
    "To install, just type `pip install fpsim`. If it worked, you should be able to import FPsim with `import fpsim as fp`."
   ]
  },
  {
   "cell_type": "code",
   "execution_count": null,
   "id": "26ad0f85",
   "metadata": {},
   "outputs": [],
   "source": [
    "import fpsim as fp"
   ]
  },
  {
   "cell_type": "markdown",
   "id": "a39d46dc",
   "metadata": {},
   "source": [
    "### Focusing on the postapartum period"
   ]
  },
  {
   "cell_type": "code",
   "execution_count": null,
   "id": "3cf1d330",
   "metadata": {},
   "outputs": [],
   "source": []
  },
  {
   "cell_type": "markdown",
   "id": "7d899262",
   "metadata": {},
   "source": [
    "### Defining parameters\n",
    "\n",
    "The most common category of parameters to change in FPsim is the basic category, which includes the location (i.e. Senegal, northern India), the starting population, the starting year, and the initial number of agents. We can define thiese as:"
   ]
  },
  {
   "cell_type": "code",
   "execution_count": null,
   "id": "175b7b1a",
   "metadata": {},
   "outputs": [],
   "source": [
    "pars = dict(\n",
    "    n_agents   = 10_000,\n",
    "    location   = 'ethiopia',\n",
    "    start_year = 1960, \n",
    "    end_year   = 2020,\n",
    ")"
   ]
  },
  {
   "cell_type": "markdown",
   "id": "7e30e46a",
   "metadata": {},
   "source": [
    "We can run a sim with the parameters we defined above. This will generate a results dictionary `sim.results`."
   ]
  },
  {
   "cell_type": "code",
   "execution_count": null,
   "id": "102f7cd3",
   "metadata": {},
   "outputs": [],
   "source": [
    "sim = fp.Sim(pars)\n",
    "sim.run()"
   ]
  }
 ],
 "metadata": {
  "kernelspec": {
   "display_name": "Python 3 (ipykernel)",
   "language": "python",
   "name": "python3"
  },
  "language_info": {
   "codemirror_mode": {
    "name": "ipython",
    "version": 3
   },
   "file_extension": ".py",
   "mimetype": "text/x-python",
   "name": "python",
   "nbconvert_exporter": "python",
   "pygments_lexer": "ipython3",
   "version": "3.9.13"
  }
 },
 "nbformat": 4,
 "nbformat_minor": 5
}
